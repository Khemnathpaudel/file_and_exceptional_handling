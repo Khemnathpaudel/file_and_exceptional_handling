{
  "nbformat": 4,
  "nbformat_minor": 0,
  "metadata": {
    "colab": {
      "provenance": []
    },
    "kernelspec": {
      "name": "python3",
      "display_name": "Python 3"
    },
    "language_info": {
      "name": "python"
    }
  },
  "cells": [
    {
      "cell_type": "code",
      "execution_count": 7,
      "metadata": {
        "id": "PPpRA_cTvAig"
      },
      "outputs": [],
      "source": [
        "#1. Discuss the scenarios where multithreading is preferable to multiprocessing and scenarios where multiprocessing is a better choice.?"
      ]
    },
    {
      "cell_type": "code",
      "source": [
        "# #ans:scenerios where multithreading is preferable to multiprocessing:\n",
        "# 1.I/O-bound tasks: suitable for tasks with frequent I/O operations(like file reading, network request etc..)\n",
        "# 2.Shared memeory: useful when tasks need to share data quickly and easily.\n",
        "#   scenerios where multithreading is preferabel:\n",
        "# 1.CPU-bound tasks:Ideal for heavy calculations where multiple cups can work sumultaneously\n",
        "# 2.Isolation: ecah task reuns separtely.recucing the chance of interference."
      ],
      "metadata": {
        "id": "NU54cCjLvs_P"
      },
      "execution_count": 8,
      "outputs": []
    },
    {
      "cell_type": "code",
      "source": [
        "#2. Describe what a process pool is and how it helps in managing multiple processes efficiently."
      ],
      "metadata": {
        "id": "4JTV2b25vs60"
      },
      "execution_count": 9,
      "outputs": []
    },
    {
      "cell_type": "code",
      "source": [
        "# #ans: A process pool is a way to manage multiple processes efficiently by creating a fixed no. of worker processes. Here's how it helps:\n",
        "# 1.Task Management: it automatically assigns tasks to available workers, so we don't have to manually start ans stop processes.\n",
        "# 2.Resource control:it limits the no. of processes running at the same time preventing your system from being overwhelmed.\n",
        "# 3.Parallel execution:it allows tasks to run in parallel speeding up the overall execution time."
      ],
      "metadata": {
        "id": "Sy3XiEgwvsmp"
      },
      "execution_count": 10,
      "outputs": []
    },
    {
      "cell_type": "code",
      "source": [
        "#3. Explain what multiprocessing is and why it is used in Python programs?"
      ],
      "metadata": {
        "id": "fQLLlKyUvsjR"
      },
      "execution_count": 11,
      "outputs": []
    },
    {
      "cell_type": "code",
      "source": [
        "# #ans: multiprocessing in python involves running multiple processes simultaneously.it's uses:\n",
        "# 1.Parallel execution:it allows programs to run multiple tasks at the same time, making use of multiple CPU cores.\n",
        "# 2.Bypassing GIL:python's Global Interpreter Lock(GIL) can be a bottleneck for multi-threaded programs.Multiprocessing avoids this by using seprate memory spaces for each proceses.\n",
        "# 3.Efficiency: It's ideal for CPU-intensive tasks, like data processing or complex calculations, as it can significantly speed up execution.\n"
      ],
      "metadata": {
        "id": "HVUopqCQvsfk"
      },
      "execution_count": 12,
      "outputs": []
    },
    {
      "cell_type": "code",
      "source": [
        "# 4. Write a Python program using multithreading where one thread adds numbers to a list, and another\n",
        "# thread removes numbers from the list. Implement a mechanism to avoid race conditions using\n",
        "# threading.Lock."
      ],
      "metadata": {
        "id": "y8zNgsnXvscJ"
      },
      "execution_count": 13,
      "outputs": []
    },
    {
      "cell_type": "code",
      "source": [
        "# ans:this is a simple python program that uses multithreading to add and remove numbers from a list,with a threading.lock to avoid race conditions.\n",
        "#program:\n",
        "import threading\n",
        "import time\n",
        "\n",
        "num=[]\n",
        "lock=threading.Lock()  # lock to avoid race conditions\n",
        "\n",
        "\n",
        "#function to add numbers to the list\n",
        "def add_num():\n",
        "  for i in range(5):\n",
        "    time.sleep(1) # will delay some time\n",
        "    with lock:\n",
        "      num.append(i)\n",
        "      print(f'Added {i}, List: {num}')\n",
        "\n",
        "# funtion to remove num from the list\n",
        "def remove_num():\n",
        "  for i in range(5):\n",
        "    time.sleep(1.5) # will delay some time\n",
        "    with lock:\n",
        "      if num:\n",
        "        removed=num.pop(0)\n",
        "        print(f\"Removed {removed}, List:{num}\")\n",
        "\n",
        "# creating threads\n",
        "thread1=threading.Thread(target=add_num)\n",
        "thread2=threading.Thread(target=remove_num)\n",
        "\n",
        "#start threads\n",
        "thread1.start()\n",
        "thread2.start()\n",
        "\n",
        "#waiting for threads to complete\n",
        "thread1.join()\n",
        "thread2.join()\n",
        "\n",
        "\n",
        "print(f'Final list:{num}')\n",
        "\n",
        "\n",
        "\n",
        "\n",
        "\n"
      ],
      "metadata": {
        "colab": {
          "base_uri": "https://localhost:8080/"
        },
        "id": "dnrR_RvP1jw1",
        "outputId": "8364fb41-7a60-4cd5-b856-111c4ed2a22f"
      },
      "execution_count": 14,
      "outputs": [
        {
          "output_type": "stream",
          "name": "stdout",
          "text": [
            "Added 0, List: [0]\n",
            "Removed 0, List:[]\n",
            "Added 1, List: [1]\n",
            "Removed 1, List:[]\n",
            "Added 2, List: [2]\n",
            "Added 3, List: [2, 3]\n",
            "Removed 2, List:[3]\n",
            "Added 4, List: [3, 4]\n",
            "Removed 3, List:[4]\n",
            "Removed 4, List:[]\n",
            "Final list:[]\n"
          ]
        }
      ]
    },
    {
      "cell_type": "code",
      "source": [
        "# 5. Describe the methods and tools available in Python for safely sharing data between threads and processes?"
      ],
      "metadata": {
        "id": "E6AwcDUh1jzt"
      },
      "execution_count": 15,
      "outputs": []
    },
    {
      "cell_type": "code",
      "source": [
        "# from sys import base_exec_prefix\n",
        "# ans:the methods and tools available in python for safely sharing data betwwen threads and processes are listed below:\n",
        "#   sharing data between threads:\n",
        "# 1.threading.Lock:prevents multiple threads from accessing shared data at the same time, avoiding confilcts.\n",
        "# 2.threading.Event:Allows threads to commumicate using a shared boolean flag.\n",
        "# 3.queue.Queue:provides a thread-safe way to exchange data between threads.\n",
        "#   sharing data between processes:\n",
        "# 1.multiprocessing.Queue:similar to queue.Queue but for processes, ensuring safe data exchange.\n",
        "# 2.multiprocessing.Pipe:creates a communication channel betweeen processes.\n",
        "# 3.multiprocessing.Value and multiprocessing.Array:Share simple data types and arrays between processes safely.\n"
      ],
      "metadata": {
        "id": "juQEvJij1j4X"
      },
      "execution_count": 16,
      "outputs": []
    },
    {
      "cell_type": "code",
      "source": [
        "#6. Discuss why it’s crucial to handle exceptions in concurrent programs and the techniques available for doing so?"
      ],
      "metadata": {
        "id": "Li-OGiKz7bq4"
      },
      "execution_count": 17,
      "outputs": []
    },
    {
      "cell_type": "code",
      "source": [
        "# ans:  Importance of handling exceptions in concurrent programs:\n",
        "# 1.Prevent crashes:unhandled exceptions can cause the entire program to crash,especially in concurrent environment where multiple tasks run simulataneously.\n",
        "# 2.Maintain stability:proper exception handling ensures that one failing task doesn't affect others,maintaining the overall stability of the program.\n",
        "# 3.Debugging:it helps in identifying and fixing issues by providing meaningful error messages and logs.\n",
        "#   Techniques for handling exceptions\n",
        "# 1.Try/Catch blocks: surround critical sections of code with try/catch to handle exceptions locally.\n",
        "# 2 Thread-safe logging:use logging to record exceptions without interfering with other threads.\n",
        "# 3.Task-Based exception handling: In frameworks like concurrent.futures in python handle exceptions within the tasks lifecycle.\n",
        "# 4.Graceful Shutdown:Ensure that the program can shutdown gracefully,even if an exception occurs, by cleaning up resources properly"
      ],
      "metadata": {
        "id": "bhT6qXLJ1j9x"
      },
      "execution_count": 18,
      "outputs": []
    },
    {
      "cell_type": "code",
      "source": [
        "# 7. Create a program that uses a thread pool to calculate the factorial of numbers from 1 to 10 concurrently.\n",
        "# Use concurrent.futures.ThreadPoolExecutor to manage the threads?"
      ],
      "metadata": {
        "id": "mNoL6tIg1kBN"
      },
      "execution_count": 19,
      "outputs": []
    },
    {
      "cell_type": "code",
      "source": [
        "#ans:\n",
        "from concurrent.futures import ThreadPoolExecutor\n",
        "import math\n",
        "\n",
        "def factorial(n):\n",
        "  return math.factorial(n)\n",
        "\n",
        "num=range(1,11) # list of numbers to calculate factorail\n",
        "\n",
        "#using ThreadPoolExecutor to manage threads\n",
        "with ThreadPoolExecutor() as executor:\n",
        "  result=list(executor.map(factorial,num))\n",
        "\n",
        "for num,result in zip(num,result):\n",
        "  print(f\" the factorial of {num} is {result}\")"
      ],
      "metadata": {
        "colab": {
          "base_uri": "https://localhost:8080/"
        },
        "id": "UW4iyS2Y1kFF",
        "outputId": "773485b5-5fb8-4230-f110-5fa12f7befe2"
      },
      "execution_count": 20,
      "outputs": [
        {
          "output_type": "stream",
          "name": "stdout",
          "text": [
            " the factorial of 1 is 1\n",
            " the factorial of 2 is 2\n",
            " the factorial of 3 is 6\n",
            " the factorial of 4 is 24\n",
            " the factorial of 5 is 120\n",
            " the factorial of 6 is 720\n",
            " the factorial of 7 is 5040\n",
            " the factorial of 8 is 40320\n",
            " the factorial of 9 is 362880\n",
            " the factorial of 10 is 3628800\n"
          ]
        }
      ]
    },
    {
      "cell_type": "code",
      "source": [
        "# 8. Create a Python program that uses multiprocessing.Pool to compute the square of numbers from 1 to 10 in\n",
        "# parallel. Measure the time taken to perform this computation using a pool of different sizes (e.g., 2, 4, 8\n",
        "# processes)?"
      ],
      "metadata": {
        "id": "CzNGyHI21kIL"
      },
      "execution_count": 21,
      "outputs": []
    },
    {
      "cell_type": "code",
      "source": [
        "import multiprocessing\n",
        "import time\n",
        "\n",
        "#function to compute the square of a number\n",
        "def square(n):\n",
        "  return n*n\n",
        "#lis of no. to find the sqares\n",
        "num=range(1,11)\n",
        "\n",
        "#function to measure time taken with different pool sizes\n",
        "def measure_time(pool_size):\n",
        "  start_time=time.time()\n",
        "  with multiprocessing.Pool(processes=pool_size) as pool:\n",
        "    results=pool.map(square,num)\n",
        "  end_time=time.time()\n",
        "  print(f\"Pool size:{pool_size},Time taken:{end_time-start_time:.4f} seconds, results:{results}\")\n",
        "\n",
        "# Measure time for different pool sizes\n",
        "for size in [2,4,8]:\n",
        "  measure_time(size)"
      ],
      "metadata": {
        "colab": {
          "base_uri": "https://localhost:8080/"
        },
        "id": "SVYkeEii1kL8",
        "outputId": "26095050-fa73-411c-e2cd-cdb7480e19a9"
      },
      "execution_count": 22,
      "outputs": [
        {
          "output_type": "stream",
          "name": "stdout",
          "text": [
            "Pool size:2,Time taken:0.0369 seconds, results:[1, 4, 9, 16, 25, 36, 49, 64, 81, 100]\n",
            "Pool size:4,Time taken:0.0774 seconds, results:[1, 4, 9, 16, 25, 36, 49, 64, 81, 100]\n",
            "Pool size:8,Time taken:0.1262 seconds, results:[1, 4, 9, 16, 25, 36, 49, 64, 81, 100]\n"
          ]
        }
      ]
    },
    {
      "cell_type": "code",
      "source": [],
      "metadata": {
        "id": "n8fB9sk71kPv"
      },
      "execution_count": null,
      "outputs": []
    },
    {
      "cell_type": "code",
      "source": [],
      "metadata": {
        "id": "nEuhbRhu1kTa"
      },
      "execution_count": null,
      "outputs": []
    }
  ]
}